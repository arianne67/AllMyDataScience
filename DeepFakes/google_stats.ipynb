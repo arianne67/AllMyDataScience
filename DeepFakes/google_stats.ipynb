{
 "cells": [
  {
   "cell_type": "code",
   "execution_count": 85,
   "metadata": {},
   "outputs": [],
   "source": [
    "import pandas as pd\n",
    "\n",
    "# Based on https://github.com/GeneralMills/pytrends\n",
    "from pytrends.request import TrendReq"
   ]
  },
  {
   "cell_type": "code",
   "execution_count": 86,
   "metadata": {},
   "outputs": [],
   "source": [
    "# Initialize base search\n",
    "def stats_init (_kw_list, _timeframe):\n",
    "    pytrends = TrendReq(hl=\"en-US\", tz=360)\n",
    "    pytrends.build_payload(_kw_list, timeframe=_timeframe)\n",
    "    return(pytrends)\n",
    "\n",
    "# Interest by Time\n",
    "def stats_timeline (_pytrends):\n",
    "    return(_pytrends.interest_over_time())\n",
    "\n",
    "# Interest by Region\n",
    "def stats_region (_pytrends):\n",
    "    return (_pytrends.interest_by_region())\n",
    "\n",
    "# Related Queries, returns a dictionary of dataframes\n",
    "def stats_relQueries (_pytrends):\n",
    "    return (_pytrends.related_queries())\n",
    "\n",
    "# Get information from Google Search Engine\n",
    "def get_stats (_pyt, _stats_type, _fic_type=\"csv\", _fic_name=\"filename\"):\n",
    "    \n",
    "    df = None\n",
    "    if _stats_type == \"timeline\":\n",
    "        df = stats_timeline(_pyt)\n",
    "    else:\n",
    "        if _stats_type == \"region\":\n",
    "            df = stats_region(_pyt)\n",
    "        else:\n",
    "            if _stats_type == \"queries\":\n",
    "                lst = []\n",
    "                cols = ['word', 'type', 'word','count']\n",
    "                for k,v in queries_dic.items():\n",
    "                    for k2 in v:\n",
    "                        for w in v[k2].values.tolist():\n",
    "                            lst.append([k,k2,w[0],w[1]])\n",
    "                df = pd.DataFrame(data=lst, columns=cols)\n",
    "                \n",
    "    if not df.empty:\n",
    "        _fic_type = _fic_type if _fic_type in [\"xls\",\"xlsx\",\"csv\"] else \"csv\"\n",
    "        if _fic_type in [\"xls\",\"xlsx\"]:           \n",
    "            df.to_excel(_fic_name+\".\"+_fic_type, engine='xlsxwriter')\n",
    "        else:\n",
    "            df.to_csv(_fic_name+\".\"+_fic_type)\n",
    "            \n",
    "# Keywords list\n",
    "kw_list = [\"DeepFake\",\"DeepFakes\",\"Fake News\",\"Deep Learning\"]\n",
    "# Timeframe\n",
    "pyt = stats_init(kw_list, \"2018-01-01 2019-12-31\")\n",
    "\n",
    "# Get Statistics\n",
    "get_stats (pyt, \"timeline\", \"csv\", \"stats_GoogleSE_byTime\")\n",
    "get_stats (pyt, \"region\", \"csv\", \"stats_GoogleSE_byRegion\")\n",
    "get_stats (pyt, \"queries\", \"csv\", \"stats_GoogleSE_queries\")\n"
   ]
  }
 ],
 "metadata": {
  "kernelspec": {
   "display_name": "Python 3",
   "language": "python",
   "name": "python3"
  },
  "language_info": {
   "codemirror_mode": {
    "name": "ipython",
    "version": 3
   },
   "file_extension": ".py",
   "mimetype": "text/x-python",
   "name": "python",
   "nbconvert_exporter": "python",
   "pygments_lexer": "ipython3",
   "version": "3.6.7"
  }
 },
 "nbformat": 4,
 "nbformat_minor": 2
}
