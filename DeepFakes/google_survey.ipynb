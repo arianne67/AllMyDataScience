{
 "cells": [
  {
   "cell_type": "code",
   "execution_count": 1,
   "metadata": {},
   "outputs": [],
   "source": [
    "import pandas as pd\n",
    "\n",
    "# based on: \n",
    "# https://pbpython.com/pandas-google-forms-part1.html\n",
    "# https://pbpython.com/pandas-google-forms-part2.html\n",
    "from oauth2client.service_account import ServiceAccountCredentials\n",
    "import gspread"
   ]
  },
  {
   "cell_type": "code",
   "execution_count": 2,
   "metadata": {},
   "outputs": [],
   "source": [
    "SCOPE = ['https://spreadsheets.google.com/feeds','https://www.googleapis.com/auth/drive']\n",
    "# Create your own credentials JSON file and put it in the same folder as this app\n",
    "SECRETS_FILE = \"SVC_API_Drive.json\""
   ]
  },
  {
   "cell_type": "code",
   "execution_count": 4,
   "metadata": {},
   "outputs": [],
   "source": [
    "# Access to Google Forms Survey in Google Drive\n",
    "def survey_open (_survey):\n",
    "    credentials = ServiceAccountCredentials.from_json_keyfile_name(SECRETS_FILE, SCOPE)\n",
    "    gss_client = gspread.authorize(credentials)\n",
    "    return(gss_client.open(_survey))\n",
    "\n",
    "# Get survey data\n",
    "def get_survey(_survey, _cols, _fic_type=\"csv\", _fic_name=\"filename\"):\n",
    "    if not _survey==\"\":\n",
    "        gss = survey_open (_survey)\n",
    "        worksheet = gss.sheet1\n",
    "        ws_df = pd.DataFrame(worksheet.get_all_records())\n",
    "        ws_df.columns = _cols\n",
    "        ws_df.data = pd.to_datetime(ws_df.data)\n",
    "        if not ws_df.data.empty:\n",
    "            _fic_type = _fic_type if _fic_type in [\"xls\",\"xlsx\",\"csv\"] else \"csv\"\n",
    "            if _fic_type in [\"xls\",\"xlsx\"]:           \n",
    "                ws_df.to_excel(_fic_name+\".\"+_fic_type)\n",
    "            else:\n",
    "                ws_df.to_csv(_fic_name+\".\"+_fic_type)\n",
    "\n",
    "# Define the columns of your survey here\n",
    "cols = ['data','edat','sexe',\n",
    "'fiab_twitter','fiab_facebook','fiab_whatsapp','fiab_linkedin','fiab_youtube',\n",
    "'coneix_FakeNews',\n",
    "'tema_preocupa',\n",
    "'cred_TvRadio','cred_premsa','cred_web','cred_twitter','cred_youtube',\n",
    "'coneix_DeepFake',\n",
    "'DF_panic','DF_eleccions','DF_privacitat','DF_bullying','DF_humanr','DF_manipula',\n",
    "'hiha_DF_positiu',\n",
    "'DF_positius','DF_positius_free',\n",
    "'DF_detectar','DF_govern','control_Internet','DF_comentaris']\n",
    "\n",
    "# Get survey data: include Google Forms survey name, columna, file type & file name\n",
    "get_survey (\"DeepFakes: un nou repte (respostes)\", cols, \"csv\", \"survey_DeepFakes\")\n"
   ]
  }
 ],
 "metadata": {
  "kernelspec": {
   "display_name": "Python 3",
   "language": "python",
   "name": "python3"
  },
  "language_info": {
   "codemirror_mode": {
    "name": "ipython",
    "version": 3
   },
   "file_extension": ".py",
   "mimetype": "text/x-python",
   "name": "python",
   "nbconvert_exporter": "python",
   "pygments_lexer": "ipython3",
   "version": "3.6.7"
  }
 },
 "nbformat": 4,
 "nbformat_minor": 2
}
